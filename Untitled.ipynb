{
 "cells": [
  {
   "cell_type": "code",
   "execution_count": 1,
   "id": "04b6abd1",
   "metadata": {},
   "outputs": [],
   "source": [
    "import pandas as pd"
   ]
  },
  {
   "cell_type": "code",
   "execution_count": 3,
   "id": "39afe843",
   "metadata": {},
   "outputs": [],
   "source": [
    "df = pd.read_excel('OPENING AND CLOSING FIRST ROUND 2021.xlsx', index_col=False, skiprows=3)"
   ]
  },
  {
   "cell_type": "code",
   "execution_count": 6,
   "id": "b06e63b0",
   "metadata": {},
   "outputs": [
    {
     "data": {
      "text/html": [
       "<div>\n",
       "<style scoped>\n",
       "    .dataframe tbody tr th:only-of-type {\n",
       "        vertical-align: middle;\n",
       "    }\n",
       "\n",
       "    .dataframe tbody tr th {\n",
       "        vertical-align: top;\n",
       "    }\n",
       "\n",
       "    .dataframe thead th {\n",
       "        text-align: right;\n",
       "    }\n",
       "</style>\n",
       "<table border=\"1\" class=\"dataframe\">\n",
       "  <thead>\n",
       "    <tr style=\"text-align: right;\">\n",
       "      <th>1</th>\n",
       "      <th>1</th>\n",
       "      <th>Acropolis Institute of Technology &amp; Research,\\nIndore (2005)</th>\n",
       "      <th>private</th>\n",
       "      <th>Y</th>\n",
       "      <th>CE</th>\n",
       "      <th>126610</th>\n",
       "      <th>320078</th>\n",
       "      <th>FW/OP</th>\n",
       "      <th>3</th>\n",
       "    </tr>\n",
       "  </thead>\n",
       "  <tbody>\n",
       "    <tr>\n",
       "      <th>2</th>\n",
       "      <td>2</td>\n",
       "      <td>Acropolis Institute of Technology &amp; Research,\\...</td>\n",
       "      <td>private</td>\n",
       "      <td>N</td>\n",
       "      <td>CE</td>\n",
       "      <td>676677</td>\n",
       "      <td>676677</td>\n",
       "      <td>ST/X/OP</td>\n",
       "      <td>1</td>\n",
       "    </tr>\n",
       "    <tr>\n",
       "      <th>3</th>\n",
       "      <td>3</td>\n",
       "      <td>Acropolis Institute of Technology &amp; Research,\\...</td>\n",
       "      <td>private</td>\n",
       "      <td>N</td>\n",
       "      <td>CE</td>\n",
       "      <td>816499</td>\n",
       "      <td>816499</td>\n",
       "      <td>EWS</td>\n",
       "      <td>1</td>\n",
       "    </tr>\n",
       "    <tr>\n",
       "      <th>4</th>\n",
       "      <td>4</td>\n",
       "      <td>Acropolis Institute of Technology &amp; Research,\\...</td>\n",
       "      <td>private</td>\n",
       "      <td>N</td>\n",
       "      <td>CE</td>\n",
       "      <td>320548</td>\n",
       "      <td>839774</td>\n",
       "      <td>OBC/X/OP</td>\n",
       "      <td>6</td>\n",
       "    </tr>\n",
       "    <tr>\n",
       "      <th>5</th>\n",
       "      <td>5</td>\n",
       "      <td>Acropolis Institute of Technology &amp; Research,\\...</td>\n",
       "      <td>private</td>\n",
       "      <td>N</td>\n",
       "      <td>CE</td>\n",
       "      <td>216879</td>\n",
       "      <td>841392</td>\n",
       "      <td>UR/X/OP</td>\n",
       "      <td>32</td>\n",
       "    </tr>\n",
       "    <tr>\n",
       "      <th>6</th>\n",
       "      <td>6</td>\n",
       "      <td>Acropolis Institute of Technology &amp; Research,\\...</td>\n",
       "      <td>private</td>\n",
       "      <td>Y</td>\n",
       "      <td>CSE</td>\n",
       "      <td>54152</td>\n",
       "      <td>109044</td>\n",
       "      <td>FW/OP</td>\n",
       "      <td>12</td>\n",
       "    </tr>\n",
       "  </tbody>\n",
       "</table>\n",
       "</div>"
      ],
      "text/plain": [
       "1  1 Acropolis Institute of Technology & Research,\\nIndore (2005)  private  Y  \\\n",
       "2  2  Acropolis Institute of Technology & Research,\\...            private  N   \n",
       "3  3  Acropolis Institute of Technology & Research,\\...            private  N   \n",
       "4  4  Acropolis Institute of Technology & Research,\\...            private  N   \n",
       "5  5  Acropolis Institute of Technology & Research,\\...            private  N   \n",
       "6  6  Acropolis Institute of Technology & Research,\\...            private  Y   \n",
       "\n",
       "1   CE  126610  320078     FW/OP   3  \n",
       "2   CE  676677  676677   ST/X/OP   1  \n",
       "3   CE  816499  816499       EWS   1  \n",
       "4   CE  320548  839774  OBC/X/OP   6  \n",
       "5   CE  216879  841392   UR/X/OP  32  \n",
       "6  CSE   54152  109044     FW/OP  12  "
      ]
     },
     "execution_count": 6,
     "metadata": {},
     "output_type": "execute_result"
    }
   ],
   "source": [
    "df.head()"
   ]
  },
  {
   "cell_type": "code",
   "execution_count": 8,
   "id": "c729efa1",
   "metadata": {},
   "outputs": [],
   "source": [
    "k=df['FW/OP'].unique()"
   ]
  },
  {
   "cell_type": "code",
   "execution_count": 10,
   "id": "d9499a88",
   "metadata": {},
   "outputs": [
    {
     "data": {
      "text/plain": [
       "['ST/X/OP',\n",
       " 'EWS',\n",
       " 'OBC/X/OP',\n",
       " 'UR/X/OP',\n",
       " 'FW/OP',\n",
       " 'SC/X/OP',\n",
       " 'ST/X/F',\n",
       " 'OBC/X/F',\n",
       " 'UR/X/F',\n",
       " 'SC/X/F',\n",
       " 'JKR',\n",
       " 'OBC/H/OP',\n",
       " 'UR/H/OP',\n",
       " 'JKM',\n",
       " 'UR/S/OP',\n",
       " 'OBC/S/F',\n",
       " 'OBC/S/OP',\n",
       " 'UR/NCC/OP',\n",
       " 'UR/FF/OP',\n",
       " 'OBC/NCC/OP',\n",
       " 'UR/S/F',\n",
       " 'UR/NCC/F',\n",
       " 'OBC/H/F',\n",
       " 'UR/FF/F']"
      ]
     },
     "execution_count": 10,
     "metadata": {},
     "output_type": "execute_result"
    }
   ],
   "source": [
    "k.tolist()"
   ]
  },
  {
   "cell_type": "code",
   "execution_count": null,
   "id": "b67cd1a0",
   "metadata": {},
   "outputs": [],
   "source": []
  }
 ],
 "metadata": {
  "kernelspec": {
   "display_name": "Python 3 (ipykernel)",
   "language": "python",
   "name": "python3"
  },
  "language_info": {
   "codemirror_mode": {
    "name": "ipython",
    "version": 3
   },
   "file_extension": ".py",
   "mimetype": "text/x-python",
   "name": "python",
   "nbconvert_exporter": "python",
   "pygments_lexer": "ipython3",
   "version": "3.9.13"
  }
 },
 "nbformat": 4,
 "nbformat_minor": 5
}
